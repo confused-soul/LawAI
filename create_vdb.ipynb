{
 "cells": [
  {
   "cell_type": "code",
   "execution_count": 3,
   "id": "9a06e24b-4ccf-4445-8bd6-1f097cf1ba3c",
   "metadata": {},
   "outputs": [],
   "source": [
    "from pypdf import PdfReader\n",
    "import re\n",
    "\n",
    "def load_pdf(file_path):\n",
    "    \"\"\"\n",
    "    Reads the text content from a PDF file and returns it as a single string.\n",
    "\n",
    "    Parameters:\n",
    "    - file_path (str): The file path to the PDF file.\n",
    "\n",
    "    Returns:\n",
    "    - str: The concatenated text content of all pages in the PDF.\n",
    "    \"\"\"\n",
    "    # Logic to read pdf\n",
    "    reader = PdfReader(file_path)\n",
    "\n",
    "    # Loop over each page and store it in a variable\n",
    "    text = \"\"\n",
    "    for page in reader.pages:\n",
    "        text += page.extract_text()\n",
    "\n",
    "    return text\n",
    "\n",
    "# replace the path with your file path\n",
    "pdf_text = load_pdf(file_path=\"coi.pdf\")"
   ]
  },
  {
   "cell_type": "code",
   "execution_count": 5,
   "id": "a20b66f3-442a-441a-bd7d-c8a91b5c60ff",
   "metadata": {},
   "outputs": [],
   "source": [
    "def save_text_to_file(text, output_file_path):\n",
    "    \"\"\"\n",
    "    Saves the given text to a text file.\n",
    "\n",
    "    Parameters:\n",
    "    - text (str): The text content to save.\n",
    "    - output_file_path (str): The file path where the text will be saved.\n",
    "    \"\"\"\n",
    "    with open(output_file_path, \"w\", encoding=\"utf-8\") as file:\n",
    "        file.write(text)"
   ]
  },
  {
   "cell_type": "code",
   "execution_count": 6,
   "id": "6aa51746-b77f-402c-924c-3399a1cf9ce5",
   "metadata": {},
   "outputs": [],
   "source": [
    "save_text_to_file(text=pdf_text, output_file_path=\"output.txt\")"
   ]
  },
  {
   "cell_type": "code",
   "execution_count": 7,
   "id": "491e0dcc-4c3a-4934-85fb-0e6f287a08a8",
   "metadata": {},
   "outputs": [
    {
     "name": "stdout",
     "output_type": "stream",
     "text": [
      "1240\n",
      "1240\n"
     ]
    }
   ],
   "source": [
    "from hide_it import hf_api\n",
    "inference_api_key = hf_api\n",
    "\n",
    "from langchain_community.document_loaders import TextLoader\n",
    "from langchain_community.vectorstores import FAISS\n",
    "from langchain_community.embeddings import HuggingFaceInferenceAPIEmbeddings\n",
    "from langchain_text_splitters import CharacterTextSplitter, RecursiveCharacterTextSplitter\n",
    "\n",
    "loader = TextLoader(\"output.txt\", encoding=\"utf-8\")\n",
    "documents = loader.load()\n",
    "text_splitter = RecursiveCharacterTextSplitter(chunk_size=1000, chunk_overlap=300, length_function=len)\n",
    "docs = text_splitter.split_documents(documents)\n",
    "print(len(docs))\n",
    "embeddings = HuggingFaceInferenceAPIEmbeddings(\n",
    "    api_key=inference_api_key, model_name=\"sentence-transformers/all-MiniLM-l6-v2\"\n",
    ")\n",
    "db = FAISS.from_documents(docs, embeddings)\n",
    "print(db.index.ntotal)\n",
    "\n",
    "db.save_local(\"faiss_index_law\")"
   ]
  },
  {
   "cell_type": "code",
   "execution_count": null,
   "id": "5a5ac9e1-9d7a-46e7-b1b0-1a344c24d65e",
   "metadata": {},
   "outputs": [],
   "source": []
  }
 ],
 "metadata": {
  "kernelspec": {
   "display_name": "Law AI",
   "language": "python",
   "name": "lawai-krnl"
  },
  "language_info": {
   "codemirror_mode": {
    "name": "ipython",
    "version": 3
   },
   "file_extension": ".py",
   "mimetype": "text/x-python",
   "name": "python",
   "nbconvert_exporter": "python",
   "pygments_lexer": "ipython3",
   "version": "3.11.4"
  }
 },
 "nbformat": 4,
 "nbformat_minor": 5
}
