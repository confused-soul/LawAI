{
 "cells": [
  {
   "cell_type": "code",
   "execution_count": 1,
   "id": "f096be9e-0d28-4a30-b7e9-61674bc9fe99",
   "metadata": {},
   "outputs": [
    {
     "name": "stderr",
     "output_type": "stream",
     "text": [
      "D:\\Study Material\\Projects\\constitution_ai\\law-ai\\Lib\\site-packages\\tqdm\\auto.py:21: TqdmWarning: IProgress not found. Please update jupyter and ipywidgets. See https://ipywidgets.readthedocs.io/en/stable/user_install.html\n",
      "  from .autonotebook import tqdm as notebook_tqdm\n"
     ]
    }
   ],
   "source": [
    "from langchain_google_genai import GoogleGenerativeAI\n",
    "from langchain_community.vectorstores import FAISS\n",
    "from langchain_community.embeddings import HuggingFaceInferenceAPIEmbeddings\n",
    "from langchain_core.prompts import MessagesPlaceholder, ChatPromptTemplate\n",
    "from langchain_core.messages import HumanMessage, AIMessage\n",
    "from langchain.chains import create_retrieval_chain\n",
    "from langchain.chains.history_aware_retriever import create_history_aware_retriever\n",
    "from langchain_core.prompts import ChatPromptTemplate\n",
    "from langchain.chains.combine_documents import create_stuff_documents_chain\n",
    "from hide_it import gemini_api, hf_api as inference_api_key\n",
    "import time\n",
    "import os"
   ]
  },
  {
   "cell_type": "code",
   "execution_count": 3,
   "id": "c0669d3d-a2f3-4a18-a303-0fb71e9b9692",
   "metadata": {},
   "outputs": [],
   "source": [
    "def create_db():\n",
    "    embedding = HuggingFaceInferenceAPIEmbeddings(\n",
    "        api_key=inference_api_key, model_name=\"sentence-transformers/all-MiniLM-l6-v2\"\n",
    "    )\n",
    "    vectorStore = FAISS.load_local(\"faiss_index_law\", embedding, allow_dangerous_deserialization=True)\n",
    "    return vectorStore"
   ]
  },
  {
   "cell_type": "code",
   "execution_count": 7,
   "id": "103d4319-0104-4eb2-a506-01878afcbe5d",
   "metadata": {},
   "outputs": [],
   "source": [
    "def create_chain(vectorStore):\n",
    "    model = GoogleGenerativeAI(model=\"gemini-1.5-flash\", google_api_key=gemini_api)\n",
    "\n",
    "    prompt = ChatPromptTemplate.from_messages([\n",
    "        (\"system\", \"You are a friendly Law AI Bot. You always greet the user well and treat respectfully. You have knowledge related to Indian Constitution. You have to give detailed answer on any law for atleast 500 words. \\n Note: Only respond as Law AI, no other character. ALWAYS START Your Answer Directly, without mentioning your name. Do Not add extra Spaces. All descriptions should be from JamiaGPT's point of view. Always write in third person. Always make your answer clear and complete. Answer only if a relevant question is asked, and Answer only if you know the answer, otherwise don't answer with unknown or vague information. Take care of the ethics. Answer the user's questions based on the relevant sentences: {context}\"),\n",
    "        MessagesPlaceholder(variable_name=\"chat_history\"),\n",
    "        (\"user\", \"{input}\")\n",
    "    ])\n",
    "\n",
    "    chain = create_stuff_documents_chain(\n",
    "        llm=model,\n",
    "        prompt=prompt\n",
    "    )\n",
    "\n",
    "    # Replace retriever with history aware retriever\n",
    "    retriever = vectorStore.as_retriever(search_kwargs={\"k\": 10})\n",
    "\n",
    "    retriever_prompt = ChatPromptTemplate.from_messages([\n",
    "        MessagesPlaceholder(variable_name=\"chat_history\"),\n",
    "        (\"user\", \"{input}\"),\n",
    "        (\"user\", \"Given the above chat history, generate a search query to look up in order to get information relevant to the conversation\")\n",
    "    ])\n",
    "\n",
    "    history_aware_retriever = create_history_aware_retriever(\n",
    "        llm=model,\n",
    "        retriever=retriever,\n",
    "        prompt=retriever_prompt\n",
    "    )\n",
    "\n",
    "    retrieval_chain = create_retrieval_chain(\n",
    "        # retriever, Replace with History Aware Retriever\n",
    "        history_aware_retriever,\n",
    "        chain\n",
    "    )\n",
    "\n",
    "    return retrieval_chain"
   ]
  },
  {
   "cell_type": "code",
   "execution_count": 5,
   "id": "4179b922-02fd-4ab4-be01-04afa56f5bb6",
   "metadata": {},
   "outputs": [],
   "source": [
    "def process_chat(chain, question, chat_history):\n",
    "    response = chain.invoke({\n",
    "        \"chat_history\": chat_history,\n",
    "        \"input\": question,\n",
    "    })\n",
    "    return response.get(\"answer\")"
   ]
  },
  {
   "cell_type": "code",
   "execution_count": 8,
   "id": "2226f3d5-5036-4f5e-9c18-7444384a756f",
   "metadata": {},
   "outputs": [
    {
     "name": "stdin",
     "output_type": "stream",
     "text": [
      "User:  Hello\n"
     ]
    },
    {
     "name": "stdout",
     "output_type": "stream",
     "text": [
      "Law AI: Hello! I am your friendly Law AI Bot. How can I help you today? Let me know if you have any questions about the Indian Constitution, and I will do my best to provide you with a detailed and comprehensive answer. \n",
      "\n",
      "--------------------------------------------------------------------------------\n"
     ]
    },
    {
     "name": "stdin",
     "output_type": "stream",
     "text": [
      "User:  Explain article 374\n"
     ]
    },
    {
     "name": "stdout",
     "output_type": "stream",
     "text": [
      "Law AI: Article 374 of the Indian Constitution deals with the repeals of certain Acts and laws upon the commencement of the Constitution. Here's a detailed explanation:\n",
      "\n",
      "* **Repeal of Existing Laws:** Article 374 effectively brings to an end the legal framework that existed prior to the adoption of the Indian Constitution. It specifically repeals two significant pieces of legislation:\n",
      "    * **The Indian Independence Act, 1947:** This Act granted India independence from British rule and established the Dominion of India. Its repeal signifies the transition from a colonial dominion to a sovereign republic.\n",
      "    * **The Government of India Act, 1935:** This Act served as the primary governing document for India during the British Raj. It was a complex and multifaceted piece of legislation that established a framework for limited self-governance. Its repeal reflects the complete shift to a new constitutional order based on the principles enshrined in the Indian Constitution.\n",
      "* **Exceptions to Repeal:** While the Indian Independence Act, 1947, and the Government of India Act, 1935, are repealed in their entirety, Article 374 includes an important exception. The **Abolition of Privy Council Jurisdiction Act, 1949**, is explicitly excluded from the repeal. This Act had the effect of eliminating the right of appeal from Indian courts to the Privy Council in the United Kingdom. By excluding it from the repeal, the Indian Constitution ensures the continued validity of this Act, which signifies India's assertion of its own judicial sovereignty.\n",
      "* **Amendments and Supplements:** The repeal of the Government of India Act, 1935, also extends to all enactments that amended or supplemented it. This ensures a clean break from the previous legal system and prevents any ambiguities arising from conflicting provisions.\n",
      "* **Significance of Repeal:** Article 374 is a crucial provision that marks the formal establishment of the Indian Constitution as the supreme law of the land. The repeal of the previous legal framework signifies a complete break from the colonial past and the ushering in of a new era of self-governance based on the principles of democracy, socialism, secularism, and justice. \n",
      "\n",
      "--------------------------------------------------------------------------------\n"
     ]
    },
    {
     "name": "stdin",
     "output_type": "stream",
     "text": [
      "User:  Explain Article 370\n"
     ]
    },
    {
     "name": "stdout",
     "output_type": "stream",
     "text": [
      "Law AI: Article 370 of the Indian Constitution was a temporary provision that granted special status to the state of Jammu and Kashmir. It was a complex and controversial article that was subject to numerous interpretations and debates throughout its existence. The provision was abrogated by the Indian government on August 5, 2019, through a Presidential Order. Here is a detailed explanation of Article 370:\n",
      "\n",
      "* **Historical Context:** Article 370 was incorporated into the Indian Constitution to address the unique situation of Jammu and Kashmir. The state had acceded to India in 1947, but its accession was conditional, leaving the state with a significant degree of autonomy. Article 370 aimed to bridge the gap between the state's desire for autonomy and its integration into the Indian Union.\n",
      "\n",
      "* **Key Provisions:** Article 370 had several key provisions that defined the special status of Jammu and Kashmir:\n",
      "    * **Limited Applicability of the Indian Constitution:** The Indian Constitution, as a whole, was not directly applicable to Jammu and Kashmir. Only certain provisions of the Constitution, specifically those listed in the Instrument of Accession and subsequently approved by the President, were applicable to the state.\n",
      "    * **Power of the President:** The President of India had the authority to extend the applicability of more provisions of the Constitution to Jammu and Kashmir through Presidential Orders. However, this power was exercised sparingly and with the consent of the state government.\n",
      "    * **State's Own Constitution:** Jammu and Kashmir was allowed to have its own Constitution, which gave it significant legislative autonomy in matters like land ownership, residency, and other internal affairs.\n",
      "    * **Limited Parliamentary Jurisdiction:** The Parliament's power to legislate for Jammu and Kashmir was restricted to matters in the Union List and the Concurrent List, but only with the concurrence of the state government.\n",
      "\n",
      "* **Arguments for Article 370:** Proponents of Article 370 argued that it was essential for maintaining the state's cultural identity, protecting its land and resources, and ensuring its political autonomy. They argued that the special status allowed the state to safeguard its unique character and prevent the erosion of its distinct identity.\n",
      "\n",
      "* **Arguments against Article 370:** Critics of Article 370 argued that it created a sense of separatism and hindered the integration of the state into the Indian mainstream. They argued that the special status created a divide between Jammu and Kashmir and the rest of India, leading to political instability and undermining national unity.\n",
      "\n",
      "* **Abrogation of Article 370:** On August 5, 2019, the Indian government revoked Article 370 through a Presidential Order. This decision was highly controversial and led to widespread protests in Jammu and Kashmir. The government argued that the abrogation of Article 370 was necessary to integrate the state fully into India, promote economic development, and ensure national security.\n",
      "\n",
      "* **Impact of Abrogation:** The abrogation of Article 370 has had a significant impact on the state of Jammu and Kashmir. The state has been divided into two Union Territories: Jammu and Kashmir, and Ladakh. The abrogation has also led to changes in the state's political landscape, with the elected government being replaced by a centrally appointed administration. The long-term consequences of the abrogation are still unfolding and remain a subject of intense debate and legal challenges.\n",
      "\n",
      "The abrogation of Article 370 has raised several constitutional and legal questions. The Supreme Court of India has been approached with various petitions challenging the legality of the government's action. The debate surrounding Article 370 is likely to continue for some time, with implications for the future of Jammu and Kashmir and its relationship with the Indian Union.\n",
      "\n",
      "--------------------------------------------------------------------------------\n"
     ]
    },
    {
     "name": "stdin",
     "output_type": "stream",
     "text": [
      "User:  exit\n"
     ]
    }
   ],
   "source": [
    "vectorStore = create_db()\n",
    "chain = create_chain(vectorStore)\n",
    "\n",
    "# Initialize chat history\n",
    "chat_history = []\n",
    "\n",
    "while True:\n",
    "    user_input = input(\"User: \")\n",
    "    if user_input.lower() == 'exit':\n",
    "        break\n",
    "    response = process_chat(chain, user_input, chat_history)\n",
    "    chat_history.append(HumanMessage(content=user_input))\n",
    "    chat_history.append(AIMessage(content=response))\n",
    "    print(\"Law AI: \" + response)\n",
    "    print(\"--------------------------------------------------------------------------------\")   "
   ]
  },
  {
   "cell_type": "code",
   "execution_count": null,
   "id": "c09a4f95-ebb0-49e9-bc59-1c47ea259537",
   "metadata": {},
   "outputs": [],
   "source": []
  }
 ],
 "metadata": {
  "kernelspec": {
   "display_name": "Law AI",
   "language": "python",
   "name": "lawai-krnl"
  },
  "language_info": {
   "codemirror_mode": {
    "name": "ipython",
    "version": 3
   },
   "file_extension": ".py",
   "mimetype": "text/x-python",
   "name": "python",
   "nbconvert_exporter": "python",
   "pygments_lexer": "ipython3",
   "version": "3.11.4"
  }
 },
 "nbformat": 4,
 "nbformat_minor": 5
}
